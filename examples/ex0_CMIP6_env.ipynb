{
 "cells": [
  {
   "cell_type": "markdown",
   "metadata": {},
   "source": [
    "# Set up our CMIP6 python virtual environment\n",
    "\n",
    "This notebook sets up a virtual environment, `cmip6_env` for CMIP6 analysis. This will give you the latest versions of several python packages, as well as set up an environment in which you can install your own packages.\n",
    "\n",
    "We're following the guide here: https://github.com/cedadev/ceda-notebooks/blob/master/notebooks/docs/add_conda_envs.ipynb"
   ]
  },
  {
   "cell_type": "markdown",
   "metadata": {},
   "source": [
    "## Initial set up"
   ]
  },
  {
   "cell_type": "code",
   "execution_count": null,
   "metadata": {},
   "outputs": [],
   "source": [
    "# Create the conda environment, in this case add the required packages on the command-line\n",
    "!conda create -y --name cmip6_env"
   ]
  },
  {
   "cell_type": "markdown",
   "metadata": {},
   "source": [
    "We now install the list of packages contained in the `../CMIP6_environment.yaml` file."
   ]
  },
  {
   "cell_type": "code",
   "execution_count": null,
   "metadata": {},
   "outputs": [],
   "source": [
    "!conda env update -n cmip6_env --file ../CMIP6_environment.yaml"
   ]
  },
  {
   "cell_type": "markdown",
   "metadata": {},
   "source": [
    "We now install the environment so that it can be used in the Notebook Service."
   ]
  },
  {
   "cell_type": "code",
   "execution_count": null,
   "metadata": {},
   "outputs": [],
   "source": [
    "# Install the environment as an \"ipykernel\" so that the Notebook Service will find it.\n",
    "!conda run -n cmip6_env python -m ipykernel install --user --name cmip6_env"
   ]
  },
  {
   "cell_type": "markdown",
   "metadata": {},
   "source": [
    "**Now when you start a notebook ensure that you select the `cmip6_env` kernel in the upper right of the notebook**. This will include all the packages that we just installed. "
   ]
  },
  {
   "cell_type": "markdown",
   "metadata": {},
   "source": [
    "## Adding your own packages\n",
    "\n",
    "To add more packages to the environment simply add them to the list in the file `../CMIP6_environment.yaml`, then run the cell below."
   ]
  },
  {
   "cell_type": "code",
   "execution_count": null,
   "metadata": {},
   "outputs": [],
   "source": [
    "!conda env update -n cmip6_env --file ../CMIP6_environment.yaml\n",
    "!conda run -n cmip6_env python -m ipykernel install --user --name cmip6_env"
   ]
  }
 ],
 "metadata": {
  "kernelspec": {
   "display_name": "cmip6_env",
   "language": "python",
   "name": "cmip6_env"
  },
  "language_info": {
   "codemirror_mode": {
    "name": "ipython",
    "version": 3
   },
   "file_extension": ".py",
   "mimetype": "text/x-python",
   "name": "python",
   "nbconvert_exporter": "python",
   "pygments_lexer": "ipython3",
   "version": "3.8.8"
  }
 },
 "nbformat": 4,
 "nbformat_minor": 4
}
